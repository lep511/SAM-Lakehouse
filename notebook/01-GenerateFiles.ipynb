{
 "cells": [
  {
   "cell_type": "code",
   "execution_count": null,
   "metadata": {},
   "outputs": [],
   "source": [
    "!pip install -U awswrangler"
   ]
  },
  {
   "cell_type": "code",
   "execution_count": 2,
   "metadata": {},
   "outputs": [],
   "source": [
    "import pandas as pd\n",
    "import awswrangler as wr\n",
    "from generate_files import generate_metadata_file\n",
    "from ingest_data import ingest_data_files\n",
    "import pyarrow as pa\n",
    "import pyarrow.parquet as pq\n",
    "import pyarrow.csv as csv\n",
    "import re\n",
    "import os\n",
    "import boto3\n",
    "import glob\n",
    "import sys\n",
    "import threading\n",
    "import json"
   ]
  },
  {
   "cell_type": "code",
   "execution_count": 2,
   "metadata": {},
   "outputs": [
    {
     "data": {
      "text/plain": [
       "Suburb: string\n",
       "Address: string\n",
       "Rooms: int64\n",
       "Type: string\n",
       "Price: int64\n",
       "Method: string\n",
       "SellerG: string\n",
       "Date: string\n",
       "Postcode: int64\n",
       "Regionname: string\n",
       "Propertycount: int64\n",
       "Distance: double\n",
       "CouncilArea: string"
      ]
     },
     "execution_count": 2,
     "metadata": {},
     "output_type": "execute_result"
    }
   ],
   "source": [
    "#ppa = pq.read_table(\"../test/test_data/yellow_trip_data_part1.parquet\")\n",
    "#ppa = pq.read_table(\"../test/test_data/yellow_trip_data_part2.parquet\")\n",
    "ppa = csv.read_csv(\"../test/test_data/melbourne_house_prices.csv\")\n",
    "ppa.schema"
   ]
  },
  {
   "cell_type": "markdown",
   "metadata": {},
   "source": [
    "### Normalize columns\n",
    "Normalize all columns names to be compatible with Amazon Athena."
   ]
  },
  {
   "cell_type": "code",
   "execution_count": 3,
   "metadata": {},
   "outputs": [
    {
     "data": {
      "text/html": [
       "<div>\n",
       "<style scoped>\n",
       "    .dataframe tbody tr th:only-of-type {\n",
       "        vertical-align: middle;\n",
       "    }\n",
       "\n",
       "    .dataframe tbody tr th {\n",
       "        vertical-align: top;\n",
       "    }\n",
       "\n",
       "    .dataframe thead th {\n",
       "        text-align: right;\n",
       "    }\n",
       "</style>\n",
       "<table border=\"1\" class=\"dataframe\">\n",
       "  <thead>\n",
       "    <tr style=\"text-align: right;\">\n",
       "      <th></th>\n",
       "      <th>suburb</th>\n",
       "      <th>address</th>\n",
       "      <th>rooms</th>\n",
       "      <th>type</th>\n",
       "      <th>price</th>\n",
       "      <th>method</th>\n",
       "      <th>sellerg</th>\n",
       "      <th>date</th>\n",
       "      <th>postcode</th>\n",
       "      <th>regionname</th>\n",
       "      <th>propertycount</th>\n",
       "      <th>distance</th>\n",
       "      <th>councilarea</th>\n",
       "    </tr>\n",
       "  </thead>\n",
       "  <tbody>\n",
       "    <tr>\n",
       "      <th>0</th>\n",
       "      <td>Abbotsford</td>\n",
       "      <td>49 Lithgow St</td>\n",
       "      <td>3</td>\n",
       "      <td>h</td>\n",
       "      <td>1490000.0</td>\n",
       "      <td>S</td>\n",
       "      <td>Jellis</td>\n",
       "      <td>1/04/2017</td>\n",
       "      <td>3067</td>\n",
       "      <td>Northern Metropolitan</td>\n",
       "      <td>4019</td>\n",
       "      <td>3.0</td>\n",
       "      <td>Yarra City Council</td>\n",
       "    </tr>\n",
       "    <tr>\n",
       "      <th>1</th>\n",
       "      <td>Abbotsford</td>\n",
       "      <td>59A Turner St</td>\n",
       "      <td>3</td>\n",
       "      <td>h</td>\n",
       "      <td>1220000.0</td>\n",
       "      <td>S</td>\n",
       "      <td>Marshall</td>\n",
       "      <td>1/04/2017</td>\n",
       "      <td>3067</td>\n",
       "      <td>Northern Metropolitan</td>\n",
       "      <td>4019</td>\n",
       "      <td>3.0</td>\n",
       "      <td>Yarra City Council</td>\n",
       "    </tr>\n",
       "    <tr>\n",
       "      <th>2</th>\n",
       "      <td>Abbotsford</td>\n",
       "      <td>119B Yarra St</td>\n",
       "      <td>3</td>\n",
       "      <td>h</td>\n",
       "      <td>1420000.0</td>\n",
       "      <td>S</td>\n",
       "      <td>Nelson</td>\n",
       "      <td>1/04/2017</td>\n",
       "      <td>3067</td>\n",
       "      <td>Northern Metropolitan</td>\n",
       "      <td>4019</td>\n",
       "      <td>3.0</td>\n",
       "      <td>Yarra City Council</td>\n",
       "    </tr>\n",
       "    <tr>\n",
       "      <th>3</th>\n",
       "      <td>Aberfeldie</td>\n",
       "      <td>68 Vida St</td>\n",
       "      <td>3</td>\n",
       "      <td>h</td>\n",
       "      <td>1515000.0</td>\n",
       "      <td>S</td>\n",
       "      <td>Barry</td>\n",
       "      <td>1/04/2017</td>\n",
       "      <td>3040</td>\n",
       "      <td>Western Metropolitan</td>\n",
       "      <td>1543</td>\n",
       "      <td>7.5</td>\n",
       "      <td>Moonee Valley City Council</td>\n",
       "    </tr>\n",
       "    <tr>\n",
       "      <th>4</th>\n",
       "      <td>Airport West</td>\n",
       "      <td>92 Clydesdale Rd</td>\n",
       "      <td>2</td>\n",
       "      <td>h</td>\n",
       "      <td>670000.0</td>\n",
       "      <td>S</td>\n",
       "      <td>Nelson</td>\n",
       "      <td>1/04/2017</td>\n",
       "      <td>3042</td>\n",
       "      <td>Western Metropolitan</td>\n",
       "      <td>3464</td>\n",
       "      <td>10.4</td>\n",
       "      <td>Moonee Valley City Council</td>\n",
       "    </tr>\n",
       "  </tbody>\n",
       "</table>\n",
       "</div>"
      ],
      "text/plain": [
       "         suburb           address  rooms type      price method   sellerg  \\\n",
       "0    Abbotsford     49 Lithgow St      3    h  1490000.0      S    Jellis   \n",
       "1    Abbotsford     59A Turner St      3    h  1220000.0      S  Marshall   \n",
       "2    Abbotsford     119B Yarra St      3    h  1420000.0      S    Nelson   \n",
       "3    Aberfeldie        68 Vida St      3    h  1515000.0      S     Barry   \n",
       "4  Airport West  92 Clydesdale Rd      2    h   670000.0      S    Nelson   \n",
       "\n",
       "        date  postcode             regionname  propertycount  distance  \\\n",
       "0  1/04/2017      3067  Northern Metropolitan           4019       3.0   \n",
       "1  1/04/2017      3067  Northern Metropolitan           4019       3.0   \n",
       "2  1/04/2017      3067  Northern Metropolitan           4019       3.0   \n",
       "3  1/04/2017      3040   Western Metropolitan           1543       7.5   \n",
       "4  1/04/2017      3042   Western Metropolitan           3464      10.4   \n",
       "\n",
       "                  councilarea  \n",
       "0          Yarra City Council  \n",
       "1          Yarra City Council  \n",
       "2          Yarra City Council  \n",
       "3  Moonee Valley City Council  \n",
       "4  Moonee Valley City Council  "
      ]
     },
     "execution_count": 3,
     "metadata": {},
     "output_type": "execute_result"
    }
   ],
   "source": [
    "df_raw = ppa.to_pandas()\n",
    "df = wr.catalog.sanitize_dataframe_columns_names(df_raw, handle_duplicate_columns=\"rename\")\n",
    "ppa = pa.Table.from_pandas(df)\n",
    "df.head()"
   ]
  },
  {
   "cell_type": "markdown",
   "metadata": {},
   "source": [
    "### Save the database"
   ]
  },
  {
   "cell_type": "code",
   "execution_count": 4,
   "metadata": {},
   "outputs": [],
   "source": [
    "#pq.write_table(ppa, \"data/file001.parquet\", compression=\"SNAPPY\")\n",
    "df.to_csv(\"data/file001.csv\", index=False)"
   ]
  },
  {
   "cell_type": "markdown",
   "metadata": {},
   "source": [
    "### Metadata file"
   ]
  },
  {
   "cell_type": "code",
   "execution_count": 5,
   "metadata": {},
   "outputs": [],
   "source": [
    "json_file = \"ingest_parameters_cc.json\"\n",
    "\n",
    "try:\n",
    "    with open(json_file, 'r') as f:\n",
    "        param_json = json.load(f)\n",
    "except FileNotFoundError:\n",
    "    print(f\"File {json_file} not found.\")\n",
    "else:\n",
    "    database = param_json[\"database\"]\n",
    "    table_name = param_json[\"table_name\"]\n",
    "    description = param_json[\"description\"]\n",
    "    partition_cols = param_json.get(\"partition_cols\")\n",
    "    required_col = param_json.get(\"required_col\")\n",
    "    doc_string = param_json.get(\"doc_string\")"
   ]
  },
  {
   "cell_type": "code",
   "execution_count": 6,
   "metadata": {},
   "outputs": [
    {
     "name": "stdout",
     "output_type": "stream",
     "text": [
      "Table name: houses_data\n",
      "Database: melbourne\n",
      "Table description: Melbourne house data prices.\n",
      "Table partition columns: []\n",
      "Table required columns: {}\n",
      "Table doc string: {'suburb': 'The suburb where the property is located.', 'address': 'The specific address of the property.', 'rooms': 'The number of rooms in the property.', 'type': 'The type of property (e.g., house, unit).', 'price': 'The selling price of the property.', 'method': 'The method of sale (e.g., auction, private sale).', 'sellerg': 'The name of the seller’s agent or agency.', 'date': 'The date the property was sold.', 'postcode': 'The postal code of the property’s location.', 'regionname': 'The broader region where the property is situated.', 'propertycount': 'The number of properties in the suburb.', 'distance': 'The distance from the property to the central business district (CBD).', 'councilarea': 'The local government area responsible for the property.'}\n"
     ]
    }
   ],
   "source": [
    "print(f\"Table name: {table_name}\")\n",
    "print(f\"Database: {database}\")\n",
    "print(f\"Table description: {description}\")\n",
    "print(f\"Table partition columns: {partition_cols}\")\n",
    "print(f\"Table required columns: {required_col}\")\n",
    "print(f\"Table doc string: {doc_string}\")\n"
   ]
  },
  {
   "cell_type": "code",
   "execution_count": 7,
   "metadata": {},
   "outputs": [],
   "source": [
    "metadata = generate_metadata_file(\n",
    "    ppa=ppa,\n",
    "    table_name=table_name,\n",
    "    database=database,\n",
    "    required_col=required_col,\n",
    "    partition_cols=partition_cols,\n",
    "    doc_string=doc_string,\n",
    "    description=description\n",
    ")"
   ]
  },
  {
   "cell_type": "code",
   "execution_count": 8,
   "metadata": {},
   "outputs": [],
   "source": [
    "with open(\"data/metadata.json\", 'w', encoding='utf-8') as f:\n",
    "    json.dump(metadata, f, indent=4)"
   ]
  },
  {
   "cell_type": "markdown",
   "metadata": {},
   "source": [
    "### Ingestion data"
   ]
  },
  {
   "cell_type": "code",
   "execution_count": 6,
   "metadata": {},
   "outputs": [
    {
     "name": "stdout",
     "output_type": "stream",
     "text": [
      "Metadata S3: {'datalake': 'iceberg-datalake'}\n"
     ]
    }
   ],
   "source": [
    "try:\n",
    "    with open(json_file, 'r') as f:\n",
    "        data_file = json.load(f)\n",
    "except FileNotFoundError:\n",
    "    print(f\"File {json_file} not found.\")\n",
    "    sys.exit(1)\n",
    "else:\n",
    "    metadata_s3 = data_file[\"metadata_s3\"]\n",
    "    print(f\"Metadata S3: {metadata_s3}\")"
   ]
  },
  {
   "cell_type": "code",
   "execution_count": 7,
   "metadata": {},
   "outputs": [
    {
     "name": "stdout",
     "output_type": "stream",
     "text": [
      "Found bucket: raw-datalake-iceberg-2f88fdbce7c85\n",
      "\n",
      "Upload metadata file...\n",
      "data/metadata.json  3882 / 3882.0  (100.00%)\n",
      "\n",
      "Upload data files...\n",
      "./data\\file001.csv  7408944 / 7408944.0  (100.00%)File ./data\\file001.csv uploaded successfully.\n"
     ]
    }
   ],
   "source": [
    "ingest_data_files(metadata_s3)"
   ]
  }
 ],
 "metadata": {
  "kernelspec": {
   "display_name": "myenv",
   "language": "python",
   "name": "python3"
  },
  "language_info": {
   "codemirror_mode": {
    "name": "ipython",
    "version": 3
   },
   "file_extension": ".py",
   "mimetype": "text/x-python",
   "name": "python",
   "nbconvert_exporter": "python",
   "pygments_lexer": "ipython3",
   "version": "3.12.2"
  }
 },
 "nbformat": 4,
 "nbformat_minor": 2
}
