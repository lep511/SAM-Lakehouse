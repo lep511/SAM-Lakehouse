{
 "cells": [
  {
   "cell_type": "code",
   "execution_count": 1,
   "metadata": {},
   "outputs": [],
   "source": [
    "import boto3\n",
    "from botocore.exceptions import ClientError\n",
    "import json\n",
    "dynamo = boto3.client(\"dynamodb\")"
   ]
  },
  {
   "cell_type": "code",
   "execution_count": 2,
   "metadata": {},
   "outputs": [
    {
     "name": "stdout",
     "output_type": "stream",
     "text": [
      "{'version': '0', 'id': '48b21f9e-27fc-f7e4-f24b-20f4bd8ef0ac', 'detail-type': 'Object Created', 'source': 'aws.s3', 'account': '010928219150', 'time': '2024-09-05T20:46:10Z', 'region': 'us-east-1', 'resources': ['arn:aws:s3:::raw-datalake-iceberg-2f88fdbce7e3'], 'detail': {'version': '0', 'bucket': {'name': 'raw-datalake-iceberg-2f88fdbce7e3'}, 'object': {'key': 'icebergdatalake/sales/shop/files/House price.parquet', 'size': 9251, 'etag': '1bbebf3d8830aebb7e23df098cdfaa30', 'sequencer': '0066DA1892240E109C'}, 'request-id': 'NB2SZ8NA4AMQPP46', 'requester': '010928219150', 'source-ip-address': '167.60.154.252', 'reason': 'PutObject'}}\n"
     ]
    }
   ],
   "source": [
    "import json\n",
    "with open(\"body.json\", \"r\") as f:\n",
    "    event_body = json.load(f)\n",
    "    print(event_body)  "
   ]
  },
  {
   "cell_type": "code",
   "execution_count": 3,
   "metadata": {},
   "outputs": [],
   "source": [
    "# Create dynamo table\n",
    "def create_dynamo_table(table_name, key_schema, attribute_definitions, provisioned_throughput):\n",
    "    dynamodb = boto3.resource('dynamodb')\n",
    "    try:\n",
    "        table = dynamodb.create_table(\n",
    "            TableName=table_name,\n",
    "            KeySchema=key_schema,\n",
    "            AttributeDefinitions=attribute_definitions,\n",
    "            ProvisionedThroughput=provisioned_throughput\n",
    "        )\n",
    "    except ClientError as e:\n",
    "        print(e.response['Error']['Message'])\n",
    "    else:\n",
    "        return table"
   ]
  },
  {
   "cell_type": "code",
   "execution_count": 4,
   "metadata": {},
   "outputs": [
    {
     "name": "stdout",
     "output_type": "stream",
     "text": [
      "Table already exists: test_ice_new\n"
     ]
    }
   ],
   "source": [
    "dynamo_table_name = \"test_ice_new\"\n",
    "key_schema = [\n",
    "    {\n",
    "        'AttributeName': 'id',\n",
    "        'KeyType': 'HASH'  # Partition key\n",
    "    }\n",
    "]\n",
    "attribute_definitions = [\n",
    "    {\n",
    "        'AttributeName': 'id',\n",
    "        'AttributeType': 'S'\n",
    "    }\n",
    "]\n",
    "provisioned_throughput = {\n",
    "    'ReadCapacityUnits': 5,\n",
    "    'WriteCapacityUnits': 5\n",
    "}\n",
    "create_dynamo_table(dynamo_table_name, key_schema, attribute_definitions, provisioned_throughput)"
   ]
  },
  {
   "cell_type": "code",
   "execution_count": 9,
   "metadata": {},
   "outputs": [],
   "source": [
    "def put_item(table_name, item):\n",
    "    dynamodb = boto3.client('dynamodb')\n",
    "    try:\n",
    "        response = dynamodb.put_item(\n",
    "            TableName=table_name,\n",
    "            Item=item\n",
    "        )\n",
    "    except Exception as e:\n",
    "        print(e)\n",
    "    else:\n",
    "        return response"
   ]
  },
  {
   "cell_type": "code",
   "execution_count": 10,
   "metadata": {},
   "outputs": [],
   "source": [
    "status = \"PENDING\"\n",
    "file_key = event_body['detail']['object']['key']\n",
    "database = file_key.split(\"/\")[-4]\n",
    "table_name = file_key.split(\"/\")[-3]\n",
    "file_name = file_key.split(\"/\")[-1]\n",
    "etag = event_body['detail']['object']['etag']\n",
    "file_size = event_body['detail']['object']['size']\n",
    "f_time = event_body['time']\n",
    "event_id = event_body['id']"
   ]
  },
  {
   "cell_type": "code",
   "execution_count": 15,
   "metadata": {},
   "outputs": [
    {
     "data": {
      "text/plain": [
       "{'ResponseMetadata': {'RequestId': '2O8OU2FP89A2O38P20PU66PDHBVV4KQNSO5AEMVJF66Q9ASUAAJG',\n",
       "  'HTTPStatusCode': 200,\n",
       "  'HTTPHeaders': {'server': 'Server',\n",
       "   'date': 'Fri, 20 Sep 2024 17:38:55 GMT',\n",
       "   'content-type': 'application/x-amz-json-1.0',\n",
       "   'content-length': '2',\n",
       "   'connection': 'keep-alive',\n",
       "   'x-amzn-requestid': '2O8OU2FP89A2O38P20PU66PDHBVV4KQNSO5AEMVJF66Q9ASUAAJG',\n",
       "   'x-amz-crc32': '2745614147'},\n",
       "  'RetryAttempts': 0}}"
      ]
     },
     "execution_count": 15,
     "metadata": {},
     "output_type": "execute_result"
    }
   ],
   "source": [
    "item = {\n",
    "    'id': {\"S\": etag},\n",
    "    'status': {\"S\": status},\n",
    "    'file_key': {\"S\": file_key},\n",
    "    'file_size': {\"N\": str(file_size)},\n",
    "    'event_time': {\"S\": f_time},\n",
    "    'event_id': {\"S\": event_id},\n",
    "    'database': {\"S\": database},\n",
    "    'table': {\"S\": table_name},\n",
    "    'file_name': {\"S\": file_name},\n",
    "    'GSI-PK': {\"S\": status},\n",
    "    'GSI-SK': {\"S\": f\"{database}#{table_name}#{etag}\"},\n",
    "}\n",
    "\n",
    "put_item(dynamo_table_name, item)"
   ]
  },
  {
   "cell_type": "code",
   "execution_count": 16,
   "metadata": {},
   "outputs": [],
   "source": [
    "# Update item in DynamoDB table\n",
    "def update_item(table_name, key, update_expression, expression_attribute_names, expression_attribute_values):\n",
    "    dynamodb = boto3.client('dynamodb')\n",
    "    try:\n",
    "        response = dynamodb.update_item(\n",
    "            TableName=table_name,\n",
    "            ExpressionAttributeNames=expression_attribute_names,\n",
    "            Key=key,\n",
    "            UpdateExpression=update_expression,\n",
    "            ExpressionAttributeValues=expression_attribute_values\n",
    "        )\n",
    "        return response\n",
    "    except ClientError as e:\n",
    "        print(e.response['Error']['Message'])\n",
    "    else:\n",
    "        return response['Attributes']"
   ]
  },
  {
   "cell_type": "code",
   "execution_count": 17,
   "metadata": {},
   "outputs": [
    {
     "data": {
      "text/plain": [
       "{'ResponseMetadata': {'RequestId': 'J0COPI7D0R6FBG1N0ISV9UOGFJVV4KQNSO5AEMVJF66Q9ASUAAJG',\n",
       "  'HTTPStatusCode': 200,\n",
       "  'HTTPHeaders': {'server': 'Server',\n",
       "   'date': 'Fri, 20 Sep 2024 17:39:13 GMT',\n",
       "   'content-type': 'application/x-amz-json-1.0',\n",
       "   'content-length': '2',\n",
       "   'connection': 'keep-alive',\n",
       "   'x-amzn-requestid': 'J0COPI7D0R6FBG1N0ISV9UOGFJVV4KQNSO5AEMVJF66Q9ASUAAJG',\n",
       "   'x-amz-crc32': '2745614147'},\n",
       "  'RetryAttempts': 0}}"
      ]
     },
     "execution_count": 17,
     "metadata": {},
     "output_type": "execute_result"
    }
   ],
   "source": [
    "#status = \"FAIL\"\n",
    "status = \"COMPLETED\"\n",
    "\n",
    "key = {\n",
    "    \"id\": {\"S\": etag}\n",
    "}\n",
    "\n",
    "expression_attribute_values = {\n",
    "    \":s\": {\"S\": status},\n",
    "    \":gpk\": {\"S\": status},\n",
    "    \":gsk\": {\"S\": f\"{database}#{table_name}#{file_name}\"}\n",
    "}\n",
    "\n",
    "expression_attribute_names = {\n",
    "    \"#STATUS\": \"status\",\n",
    "    \"#GPK\": \"GSI-PK\",\n",
    "    \"#GSK\": \"GSI-SK\"\n",
    "}\n",
    "\n",
    "update_expression = \"SET #STATUS = :s, #GPK = :gpk, #GSK = :gsk\"\n",
    "\n",
    "update_item(\n",
    "    table_name=dynamo_table_name,\n",
    "    key=key,\n",
    "    expression_attribute_values=expression_attribute_values,\n",
    "    expression_attribute_names=expression_attribute_names,\n",
    "    update_expression=update_expression\n",
    ")\n"
   ]
  },
  {
   "cell_type": "code",
   "execution_count": 47,
   "metadata": {},
   "outputs": [],
   "source": [
    "key = {\n",
    "    \"id\": {\"S\": etag}\n",
    "}"
   ]
  },
  {
   "cell_type": "code",
   "execution_count": 48,
   "metadata": {},
   "outputs": [],
   "source": [
    "# Check if a element exist in DynamoDB\n",
    "def check_element_in_dynamo(dynamo_table, element):\n",
    "    dynamodb = boto3.client('dynamodb')\n",
    "    try:\n",
    "        response = dynamodb.get_item(\n",
    "            TableName=dynamo_table,\n",
    "            Key=element,\n",
    "        )\n",
    "    except ClientError as e:\n",
    "        print(f\"[ERROR] Error checking element in DynamoDB: {e}\")\n",
    "        return False\n",
    "    else:\n",
    "        item = response.get('Item', {})\n",
    "        if item:\n",
    "            return item\n",
    "        else:\n",
    "            return False"
   ]
  },
  {
   "cell_type": "code",
   "execution_count": 49,
   "metadata": {},
   "outputs": [],
   "source": [
    "status_file = check_element_in_dynamo(dynamo_table_name, key)"
   ]
  },
  {
   "cell_type": "code",
   "execution_count": null,
   "metadata": {},
   "outputs": [],
   "source": [
    "status_file"
   ]
  }
 ],
 "metadata": {
  "kernelspec": {
   "display_name": "myenv",
   "language": "python",
   "name": "python3"
  },
  "language_info": {
   "codemirror_mode": {
    "name": "ipython",
    "version": 3
   },
   "file_extension": ".py",
   "mimetype": "text/x-python",
   "name": "python",
   "nbconvert_exporter": "python",
   "pygments_lexer": "ipython3",
   "version": "3.12.2"
  }
 },
 "nbformat": 4,
 "nbformat_minor": 2
}
