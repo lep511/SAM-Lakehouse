{
 "cells": [
  {
   "cell_type": "code",
   "execution_count": 1,
   "metadata": {},
   "outputs": [],
   "source": [
    "import boto3\n",
    "import json\n",
    "from botocore.exceptions import ClientError"
   ]
  },
  {
   "cell_type": "code",
   "execution_count": 2,
   "metadata": {},
   "outputs": [],
   "source": [
    "sqs = boto3.client(\"sqs\")"
   ]
  },
  {
   "cell_type": "code",
   "execution_count": 3,
   "metadata": {},
   "outputs": [],
   "source": [
    "queue_url = \"https://sqs.us-east-1.amazonaws.com/491085411627/datalake-iceberg-dev-queue-dlq.fifo\""
   ]
  },
  {
   "cell_type": "code",
   "execution_count": 5,
   "metadata": {},
   "outputs": [],
   "source": [
    "message_json = {\n",
    "    \"version\":\"0\",\n",
    "    \"id\":\"48b21f9e-27fc-f7e4-f24b-20f4bd8ef0ac\",\n",
    "    \"detail-type\":\"Object Created\",\n",
    "    \"source\":\"aws.s3\",\n",
    "    \"account\":\"010928219150\",\n",
    "    \"time\":\"2024-09-05T20:46:10Z\",\n",
    "    \"region\":\"us-east-1\",\n",
    "    \"resources\":[\n",
    "        \"arn:aws:s3:::raw-datalake-iceberg-2f88fdbce7e3\"\n",
    "    ],\n",
    "    \"detail\":{\n",
    "        \"version\":\"0\",\n",
    "        \"bucket\":{\n",
    "            \"name\":\"raw-datalake-iceberg-2f88fdbce7e3\"\n",
    "        },\n",
    "        \"object\":{\n",
    "            \"key\":\"icebergdatalake/sales/shop/files/House price.parquet\",\n",
    "            \"size\":9251,\n",
    "            \"etag\":\"1bbebf3d8830aebb7e23df098cdfaa30\",\n",
    "            \"sequencer\":\"0066DA1892240E109C\"\n",
    "        },\n",
    "        \"request-id\":\"NB2SZ8NA4AMQPP46\",\n",
    "        \"requester\":\"010928219150\",\n",
    "        \"source-ip-address\":\"167.60.154.252\",\n",
    "        \"reason\":\"PutObject\"\n",
    "    }\n",
    "}"
   ]
  },
  {
   "cell_type": "code",
   "execution_count": 9,
   "metadata": {},
   "outputs": [
    {
     "data": {
      "text/plain": [
       "'0753c0f4-63cd-4061-b734-06262a5a51e9'"
      ]
     },
     "execution_count": 9,
     "metadata": {},
     "output_type": "execute_result"
    }
   ],
   "source": [
    "import uuid\n"
   ]
  },
  {
   "cell_type": "code",
   "execution_count": 11,
   "metadata": {},
   "outputs": [],
   "source": [
    "error_code = \"METADATA_FILE_NOT_FOUND\"\n",
    "message_json[\"error_code\"] = error_code\n",
    "message = json.dumps(message_json)\n",
    "message_group_id = \"datalake-iceberg\"\n",
    "message_ded_id = str(uuid.uuid4())\n",
    "try:\n",
    "    sqs.send_message(\n",
    "        QueueUrl=queue_url, \n",
    "        MessageBody=message, \n",
    "        MessageGroupId=message_group_id, \n",
    "        MessageDeduplicationId=message_ded_id\n",
    "    )\n",
    "except ClientError as e:\n",
    "    print(f\"[ERROR] sending message to SQS-DLQ: {e}\")"
   ]
  },
  {
   "cell_type": "code",
   "execution_count": 2,
   "metadata": {},
   "outputs": [
    {
     "name": "stdout",
     "output_type": "stream",
     "text": [
      "Bucket 'data-bucket-981702786641' created successfully.\n"
     ]
    }
   ],
   "source": [
    "def create_bucket(bucket_name):\n",
    "    s3 = boto3.client('s3')\n",
    "    \n",
    "    try:\n",
    "        s3.create_bucket(\n",
    "            Bucket=bucket_name\n",
    "        )\n",
    "        print(f\"Bucket '{bucket_name}' created successfully.\")\n",
    "    except ClientError as e:\n",
    "        if e.response['Error']['Code'] == 'BucketAlreadyOwnedByYou':\n",
    "            print(f\"Bucket '{bucket_name}' already exists.\")\n",
    "        else:\n",
    "            raise e\n",
    "\n",
    "    return s3\n",
    "\n",
    "# Get the AccountId\n",
    "account_id = boto3.client('sts').get_caller_identity().get('Account')\n",
    "bucket_name = f\"data-bucket-{account_id}\"\n",
    "s3_client = create_bucket(bucket_name)"
   ]
  },
  {
   "cell_type": "code",
   "execution_count": 3,
   "metadata": {},
   "outputs": [],
   "source": [
    "path = f\"s3://{bucket_name}/iceberg_test/\"\n",
    "temp_path = f\"s3://{bucket_name}/iceberg_test_temp/\"\n",
    "glue_database = \"iceberg_catalog\"\n",
    "glue_catalog_uri = f\"s3://{bucket_name}/catalog\"  # Replace with your Glue Catalog URI\n",
    "table_name = \"iceberg_catalog.iceberg_data\""
   ]
  },
  {
   "cell_type": "code",
   "execution_count": 4,
   "metadata": {},
   "outputs": [
    {
     "name": "stdout",
     "output_type": "stream",
     "text": [
      "Database iceberg_catalog created\n"
     ]
    }
   ],
   "source": [
    "glue_client = boto3.client(\"glue\")\n",
    "\n",
    "try:\n",
    "    glue_client.get_database(Name=glue_database)\n",
    "    print(f\"Database {glue_database} already exists\")\n",
    "except ClientError as err:\n",
    "    glue_client.create_database(DatabaseInput={'Name': glue_database})\n",
    "    print(f\"Database {glue_database} created\")"
   ]
  },
  {
   "cell_type": "code",
   "execution_count": 5,
   "metadata": {},
   "outputs": [],
   "source": [
    "comments = {\n",
    "    \"vendorid\": \"Identifier for the vendor.\",\n",
    "    \"pickup_datetime\": \"Date and time when the trip started.\",\n",
    "    \"dropoff_datetime\": \"Date and time when the trip ended.\",\n",
    "    \"ratecode\": \"Code indicating the rate type.\",\n",
    "    \"passenger_count\": \"Number of passengers in the trip.\",\n",
    "    \"trip_distance\": \"Distance of the trip in miles.\",\n",
    "    \"fare_amount\": \"Fare amount charged for the trip.\",\n",
    "    \"total_amount\": \"Total amount charged including extras.\",\n",
    "    \"payment_type\": \"Code indicating the payment method.\"\n",
    "}"
   ]
  },
  {
   "cell_type": "code",
   "execution_count": 6,
   "metadata": {},
   "outputs": [],
   "source": [
    "# Define the Iceberg schema\n",
    "schema = Schema(\n",
    "    NestedField(field_id=1, name=\"vendorid\", field_type=StringType(), required=False, doc=comments['vendorid']),\n",
    "    NestedField(field_id=2, name=\"pickup_datetime\", field_type=TimestampType(), required=False, doc=comments['pickup_datetime']),\n",
    "    NestedField(field_id=3, name=\"dropoff_datetime\", field_type=TimestampType(), required=False, doc=comments['dropoff_datetime']),\n",
    "    NestedField(field_id=4, name=\"ratecode\", field_type=IntegerType(), required=False, doc=comments['ratecode']),\n",
    "    NestedField(field_id=5, name=\"passenger_count\", field_type=IntegerType(), required=False, doc=comments['passenger_count']),\n",
    "    NestedField(field_id=6, name=\"trip_distance\", field_type=DoubleType(), required=False, doc=comments['trip_distance']),\n",
    "    NestedField(field_id=7, name=\"fare_amount\", field_type=DoubleType(), required=False, doc=comments['fare_amount']),\n",
    "    NestedField(field_id=8, name=\"total_amount\", field_type=DoubleType(), required=False, doc=comments['total_amount']),\n",
    "    NestedField(field_id=9, name=\"payment_type\", field_type=IntegerType(), required=False, doc=comments['payment_type']),\n",
    "    NestedField(field_id=10, name=\"year\", field_type=IntegerType(), required=False),\n",
    "    NestedField(field_id=11, name=\"month\", field_type=IntegerType(), required=False),\n",
    "    NestedField(field_id=12, name=\"type\", field_type=StringType(), required=False)\n",
    ")"
   ]
  },
  {
   "cell_type": "code",
   "execution_count": 7,
   "metadata": {},
   "outputs": [],
   "source": [
    "# Define the partitioning specification with year, month, and day\n",
    "partition_spec = PartitionSpec(\n",
    "    PartitionField(field_id=10, source_id=10, transform=IdentityTransform (), name=\"year\"),\n",
    "    PartitionField(field_id=11, source_id=11, transform=IdentityTransform (), name=\"month\"),\n",
    "    PartitionField(field_id=12, source_id=12, transform=IdentityTransform(), name=\"type\"),\n",
    ")"
   ]
  },
  {
   "cell_type": "code",
   "execution_count": 8,
   "metadata": {},
   "outputs": [],
   "source": [
    "# Define the sorting order using validTimeUtc field\n",
    "sort_order = SortOrder(SortField(source_id=3, transform=IdentityTransform()))"
   ]
  },
  {
   "cell_type": "code",
   "execution_count": 9,
   "metadata": {},
   "outputs": [],
   "source": [
    "# Instantiate glue catalog\n",
    "catalog = load_catalog(\"glue\", **{\"type\": \"glue\"})"
   ]
  },
  {
   "cell_type": "code",
   "execution_count": 10,
   "metadata": {},
   "outputs": [
    {
     "name": "stdout",
     "output_type": "stream",
     "text": [
      "Iceberg table: iceberg_catalog.iceberg_data created using AWS Glue Catalog.\n"
     ]
    }
   ],
   "source": [
    "try:\n",
    "    tbl = catalog.load_table(table_name)\n",
    "    schema = tbl.schema()\n",
    "except NoSuchTableError:\n",
    "    # If the table doesn't exist, create it\n",
    "    tbl = catalog.create_table(\n",
    "            identifier=table_name,\n",
    "            location=glue_catalog_uri,\n",
    "            schema=schema,\n",
    "            partition_spec=partition_spec,\n",
    "            sort_order=sort_order,\n",
    "            properties={\n",
    "                \"Description\": \"Sample table data\"\n",
    "            }\n",
    "    )\n",
    "    print(f\"Iceberg table: {table_name} created using AWS Glue Catalog.\")\n",
    "except Exception as e:\n",
    "    print(f\"Error loading table {table_name}: {e}\")\n",
    "    raise e\n",
    "else:\n",
    "    print(f\"Table {table_name} already exists.\")"
   ]
  },
  {
   "cell_type": "code",
   "execution_count": 12,
   "metadata": {},
   "outputs": [],
   "source": [
    "part = ds.partitioning(pa.schema([(\"year\", pa.int32()),\n",
    "                                  (\"month\", pa.int32()),\n",
    "                                  (\"type\", pa.string())]))\n",
    "\n",
    "df = pq.read_table(\n",
    "    source=\"./data_taxti0004.parquet\",\n",
    "    coerce_int96_timestamp_unit=\"us\",\n",
    "    partitioning=part,\n",
    "    schema=schema.as_arrow(),\n",
    ")\n",
    "\n",
    "tbl.append(df)"
   ]
  },
  {
   "cell_type": "code",
   "execution_count": null,
   "metadata": {},
   "outputs": [],
   "source": [
    "convert_options = csv.ConvertOptions(\n",
    "    column_types=schema.as_arrow()\n",
    ")"
   ]
  },
  {
   "cell_type": "code",
   "execution_count": null,
   "metadata": {},
   "outputs": [],
   "source": [
    "df_csv = csv.read_csv(\"data_taxti.csv\", convert_options=convert_options)"
   ]
  },
  {
   "cell_type": "code",
   "execution_count": null,
   "metadata": {},
   "outputs": [],
   "source": [
    "tbl.append(df_csv)"
   ]
  },
  {
   "cell_type": "code",
   "execution_count": 17,
   "metadata": {},
   "outputs": [
    {
     "data": {
      "text/plain": [
       "{'location': 's3://data-bucket-010928219262/catalog',\n",
       " 'table-uuid': '6bd7286d-f3a3-43e2-a459-2f0fdce8039e',\n",
       " 'last-updated-ms': 1725399054834,\n",
       " 'last-column-id': 12,\n",
       " 'schemas': [{'type': 'struct',\n",
       "   'fields': [{'id': 1,\n",
       "     'name': 'vendorid',\n",
       "     'type': 'string',\n",
       "     'required': False,\n",
       "     'doc': 'Identifier for the vendor.'},\n",
       "    {'id': 2,\n",
       "     'name': 'pickup_datetime',\n",
       "     'type': 'timestamp',\n",
       "     'required': False,\n",
       "     'doc': 'Date and time when the trip started.'},\n",
       "    {'id': 3,\n",
       "     'name': 'dropoff_datetime',\n",
       "     'type': 'timestamp',\n",
       "     'required': False,\n",
       "     'doc': 'Date and time when the trip ended.'},\n",
       "    {'id': 4,\n",
       "     'name': 'ratecode',\n",
       "     'type': 'int',\n",
       "     'required': False,\n",
       "     'doc': 'Code indicating the rate type.'},\n",
       "    {'id': 5,\n",
       "     'name': 'passenger_count',\n",
       "     'type': 'int',\n",
       "     'required': False,\n",
       "     'doc': 'Number of passengers in the trip.'},\n",
       "    {'id': 6,\n",
       "     'name': 'trip_distance',\n",
       "     'type': 'double',\n",
       "     'required': False,\n",
       "     'doc': 'Distance of the trip in miles.'},\n",
       "    {'id': 7,\n",
       "     'name': 'fare_amount',\n",
       "     'type': 'double',\n",
       "     'required': False,\n",
       "     'doc': 'Fare amount charged for the trip.'},\n",
       "    {'id': 8,\n",
       "     'name': 'total_amount',\n",
       "     'type': 'double',\n",
       "     'required': False,\n",
       "     'doc': 'Total amount charged including extras.'},\n",
       "    {'id': 9,\n",
       "     'name': 'payment_type',\n",
       "     'type': 'int',\n",
       "     'required': False,\n",
       "     'doc': 'Code indicating the payment method.'},\n",
       "    {'id': 10, 'name': 'year', 'type': 'int', 'required': False},\n",
       "    {'id': 11, 'name': 'month', 'type': 'int', 'required': False},\n",
       "    {'id': 12, 'name': 'type', 'type': 'string', 'required': False}],\n",
       "   'schema-id': 0,\n",
       "   'identifier-field-ids': []}],\n",
       " 'current-schema-id': 0,\n",
       " 'partition-specs': [{'spec-id': 0,\n",
       "   'fields': [{'source-id': 10,\n",
       "     'field-id': 1000,\n",
       "     'transform': 'identity',\n",
       "     'name': 'year'},\n",
       "    {'source-id': 11,\n",
       "     'field-id': 1001,\n",
       "     'transform': 'identity',\n",
       "     'name': 'month'},\n",
       "    {'source-id': 12,\n",
       "     'field-id': 1002,\n",
       "     'transform': 'identity',\n",
       "     'name': 'type'}]}],\n",
       " 'default-spec-id': 0,\n",
       " 'last-partition-id': 1002,\n",
       " 'properties': {'Description': 'Sample table data'},\n",
       " 'current-snapshot-id': 8613870965987536736,\n",
       " 'snapshots': [{'snapshot-id': 8613870965987536736,\n",
       "   'sequence-number': 1,\n",
       "   'timestamp-ms': 1725399054834,\n",
       "   'manifest-list': 's3://data-bucket-010928219262/catalog/metadata/snap-8613870965987536736-0-69f8c00d-add8-46bf-aa4a-188a07c29713.avro',\n",
       "   'summary': {'operation': 'append',\n",
       "    'added-files-size': '8777747',\n",
       "    'added-data-files': '1',\n",
       "    'added-records': '500000',\n",
       "    'changed-partition-count': '1',\n",
       "    'total-data-files': '1',\n",
       "    'total-delete-files': '0',\n",
       "    'total-records': '500000',\n",
       "    'total-files-size': '8777747',\n",
       "    'total-position-deletes': '0',\n",
       "    'total-equality-deletes': '0'},\n",
       "   'schema-id': 0}],\n",
       " 'snapshot-log': [{'snapshot-id': 8613870965987536736,\n",
       "   'timestamp-ms': 1725399054834}],\n",
       " 'metadata-log': [],\n",
       " 'sort-orders': [{'order-id': 1,\n",
       "   'fields': [{'source-id': 3,\n",
       "     'transform': 'identity',\n",
       "     'direction': 'asc',\n",
       "     'null-order': 'nulls-first'}]}],\n",
       " 'default-sort-order-id': 1,\n",
       " 'refs': {'main': {'snapshot-id': 8613870965987536736, 'type': 'branch'}},\n",
       " 'format-version': 2,\n",
       " 'last-sequence-number': 1}"
      ]
     },
     "execution_count": 17,
     "metadata": {},
     "output_type": "execute_result"
    }
   ],
   "source": [
    "file_metadata = tbl.metadata_location\n",
    "file_metadata = \"/\".join(file_metadata.split(\"/\")[3:])\n",
    "\n",
    "s3 = boto3.client('s3')\n",
    "s3.download_file(bucket_name, file_metadata, \"metadata_file.json\")\n",
    "\n",
    "with open (\"metadata_file.json\", \"r\") as f:\n",
    "    data = json.load(f)\n",
    "\n",
    "data"
   ]
  },
  {
   "cell_type": "code",
   "execution_count": 43,
   "metadata": {},
   "outputs": [],
   "source": [
    "schema_json = json.dumps(data[\"schemas\"][0])\n",
    "schema_data = Schema.model_validate_json(schema_json)\n",
    "\n",
    "partition_spec_json = json.dumps(data[\"partition-specs\"][0])\n",
    "partition_spec_data = PartitionSpec.model_validate_json(partition_spec_json)"
   ]
  },
  {
   "cell_type": "code",
   "execution_count": 55,
   "metadata": {},
   "outputs": [
    {
     "name": "stdout",
     "output_type": "stream",
     "text": [
      "Iceberg table: iceberg_catalog.iceberg_data created using AWS Glue Catalog.\n"
     ]
    }
   ],
   "source": [
    "tbl = catalog.create_table(\n",
    "        identifier=\"iceberg_catalog.iceberg_newdata\",\n",
    "        location=data[\"location\"],\n",
    "        schema=schema_data,\n",
    "        partition_spec=partition_spec_data,\n",
    "        properties=data[\"properties\"]\n",
    ")\n",
    "print(f\"Iceberg table: {table_name} created using AWS Glue Catalog.\")"
   ]
  },
  {
   "cell_type": "code",
   "execution_count": 16,
   "metadata": {},
   "outputs": [],
   "source": [
    "example_metadata = {\n",
    "   \"schemas\":[\n",
    "      {\n",
    "         \"type\":\"struct\",\n",
    "         \"fields\":[\n",
    "            {\n",
    "               \"id\":1,\n",
    "               \"name\":\"vendorid\",\n",
    "               \"type\":\"string\",\n",
    "               \"required\":False,\n",
    "               \"doc\":\"Identifier for the vendor.\"\n",
    "            },\n",
    "            {\n",
    "               \"id\":2,\n",
    "               \"name\":\"pickup_datetime\",\n",
    "               \"type\":\"timestamp\",\n",
    "               \"required\":False,\n",
    "               \"doc\":\"Date and time when the trip started.\"\n",
    "            },\n",
    "            {\n",
    "               \"id\":3,\n",
    "               \"name\":\"dropoff_datetime\",\n",
    "               \"type\":\"timestamp\",\n",
    "               \"required\":False,\n",
    "               \"doc\":\"Date and time when the trip ended.\"\n",
    "            },\n",
    "            {\n",
    "               \"id\":4,\n",
    "               \"name\":\"ratecode\",\n",
    "               \"type\":\"int\",\n",
    "               \"required\":False,\n",
    "               \"doc\":\"Code indicating the rate type.\"\n",
    "            },\n",
    "            {\n",
    "               \"id\":5,\n",
    "               \"name\":\"passenger_count\",\n",
    "               \"type\":\"int\",\n",
    "               \"required\":False,\n",
    "               \"doc\":\"Number of passengers in the trip.\"\n",
    "            },\n",
    "            {\n",
    "               \"id\":6,\n",
    "               \"name\":\"trip_distance\",\n",
    "               \"type\":\"double\",\n",
    "               \"required\":False,\n",
    "               \"doc\":\"Distance of the trip in miles.\"\n",
    "            },\n",
    "            {\n",
    "               \"id\":7,\n",
    "               \"name\":\"fare_amount\",\n",
    "               \"type\":\"double\",\n",
    "               \"required\":False,\n",
    "               \"doc\":\"Fare amount charged for the trip.\"\n",
    "            },\n",
    "            {\n",
    "               \"id\":8,\n",
    "               \"name\":\"total_amount\",\n",
    "               \"type\":\"double\",\n",
    "               \"required\":False,\n",
    "               \"doc\":\"Total amount charged including extras.\"\n",
    "            },\n",
    "            {\n",
    "               \"id\":9,\n",
    "               \"name\":\"payment_type\",\n",
    "               \"type\":\"int\",\n",
    "               \"required\":False,\n",
    "               \"doc\":\"Code indicating the payment method.\"\n",
    "            },\n",
    "            {\n",
    "               \"id\":10,\n",
    "               \"name\":\"year\",\n",
    "               \"type\":\"int\",\n",
    "               \"required\":False\n",
    "            },\n",
    "            {\n",
    "               \"id\":11,\n",
    "               \"name\":\"month\",\n",
    "               \"type\":\"int\",\n",
    "               \"required\":False\n",
    "            },\n",
    "            {\n",
    "               \"id\":12,\n",
    "               \"name\":\"type\",\n",
    "               \"type\":\"string\",\n",
    "               \"required\":False\n",
    "            }\n",
    "         ],\n",
    "         \"schema-id\":0,\n",
    "         \"identifier-field-ids\":[\n",
    "            \n",
    "         ]\n",
    "      }\n",
    "   ],\n",
    "   \"partition-specs\":[\n",
    "      {\n",
    "         \"spec-id\":0,\n",
    "         \"fields\":[\n",
    "            {\n",
    "               \"source-id\":10,\n",
    "               \"field-id\":1000,\n",
    "               \"transform\":\"identity\",\n",
    "               \"name\":\"year\"\n",
    "            },\n",
    "            {\n",
    "               \"source-id\":11,\n",
    "               \"field-id\":1001,\n",
    "               \"transform\":\"identity\",\n",
    "               \"name\":\"month\"\n",
    "            },\n",
    "            {\n",
    "               \"source-id\":12,\n",
    "               \"field-id\":1002,\n",
    "               \"transform\":\"identity\",\n",
    "               \"name\":\"type\"\n",
    "            }\n",
    "         ]\n",
    "      }\n",
    "   ],\n",
    "   \"properties\":{\n",
    "      \"Description\":\"Sample table data\"\n",
    "   }\n",
    "}"
   ]
  },
  {
   "cell_type": "code",
   "execution_count": 17,
   "metadata": {},
   "outputs": [],
   "source": [
    "client = boto3.client('ssm')\n",
    "\n",
    "response = client.put_parameter(\n",
    "    Name='MetadataTableSample',\n",
    "    Description='Metadata table',\n",
    "    Value=json.dumps(example_metadata, indent=2),\n",
    "    Type='String',\n",
    "    Overwrite=True\n",
    ")"
   ]
  },
  {
   "cell_type": "code",
   "execution_count": 8,
   "metadata": {},
   "outputs": [],
   "source": [
    "client = boto3.client('ssm')\n",
    "\n",
    "response = client.get_parameter(\n",
    "    Name='MetadataTableSample',\n",
    "    WithDecryption=False\n",
    ")"
   ]
  },
  {
   "cell_type": "code",
   "execution_count": 9,
   "metadata": {},
   "outputs": [],
   "source": [
    "meta_data = json.loads(response['Parameter']['Value'])"
   ]
  },
  {
   "cell_type": "code",
   "execution_count": 10,
   "metadata": {},
   "outputs": [],
   "source": [
    "schema_json = json.dumps(meta_data[\"schemas\"][0])\n",
    "schema_data = Schema.model_validate_json(schema_json)\n",
    "\n",
    "partition_spec_json = json.dumps(meta_data[\"partition-specs\"][0])\n",
    "partition_spec_data = PartitionSpec.model_validate_json(partition_spec_json)"
   ]
  },
  {
   "cell_type": "code",
   "execution_count": 12,
   "metadata": {},
   "outputs": [],
   "source": [
    "# Instantiate glue catalog\n",
    "catalog = load_catalog(\"glue\", **{\"type\": \"glue\"})"
   ]
  },
  {
   "cell_type": "code",
   "execution_count": 18,
   "metadata": {},
   "outputs": [
    {
     "name": "stdout",
     "output_type": "stream",
     "text": [
      "Iceberg table: created using AWS Glue Catalog.\n"
     ]
    }
   ],
   "source": [
    "tbl = catalog.create_table(\n",
    "        identifier=\"iceberg_catalog.iceberg_newborndata\",\n",
    "        location=f\"s3://{bucket_name}/catalog\",\n",
    "        schema=schema_data,\n",
    "        partition_spec=partition_spec_data,\n",
    "        properties=meta_data[\"properties\"]\n",
    ")\n",
    "print(\"Iceberg table: created using AWS Glue Catalog.\")"
   ]
  },
  {
   "cell_type": "code",
   "execution_count": 29,
   "metadata": {},
   "outputs": [],
   "source": [
    "df = pq.read_table(\n",
    "    source=\"./data_taxti0001.parquet\",\n",
    "    coerce_int96_timestamp_unit=\"us\",\n",
    "    partitioning=partition_spec_data,\n",
    "    schema=schema_data.as_arrow(),\n",
    ")\n",
    "\n",
    "tbl.append(df)"
   ]
  }
 ],
 "metadata": {
  "kernelspec": {
   "display_name": "myenv",
   "language": "python",
   "name": "python3"
  },
  "language_info": {
   "codemirror_mode": {
    "name": "ipython",
    "version": 3
   },
   "file_extension": ".py",
   "mimetype": "text/x-python",
   "name": "python",
   "nbconvert_exporter": "python",
   "pygments_lexer": "ipython3",
   "version": "3.12.2"
  }
 },
 "nbformat": 4,
 "nbformat_minor": 2
}
